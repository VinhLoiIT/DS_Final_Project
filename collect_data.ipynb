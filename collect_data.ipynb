{
 "cells": [
  {
   "cell_type": "markdown",
   "metadata": {},
   "source": [
    "# Import library"
   ]
  },
  {
   "cell_type": "code",
   "execution_count": null,
   "metadata": {},
   "outputs": [],
   "source": [
    "from requests_html import HTMLSession\n",
    "import requests\n",
    "import os\n",
    "import argparse\n",
    "import sys\n",
    "import json\n",
    "import time"
   ]
  },
  {
   "cell_type": "code",
   "execution_count": null,
   "metadata": {},
   "outputs": [],
   "source": [
    "keywords = {\n",
    "    'viettel': ['cua hang viettel', 'viettel store'],\n",
    "    'fpt': ['fpt software', 'fpt'],\n",
    "    'fujinet': ['fujinet', 'fujinet logo'],\n",
    "    'vng': ['vng', 'vng logo'],\n",
    "    'kms': ['kms', 'kms logo'],\n",
    "}"
   ]
  },
  {
   "cell_type": "code",
   "execution_count": null,
   "metadata": {},
   "outputs": [],
   "source": [
    "max_image_per_query = 100\n",
    "image_dir_root = './download'\n",
    "if not os.path.exists(image_dir_root):\n",
    "    os.mkdir(image_dir_root)"
   ]
  },
  {
   "cell_type": "code",
   "execution_count": null,
   "metadata": {},
   "outputs": [],
   "source": [
    "session = HTMLSession()"
   ]
  },
  {
   "cell_type": "code",
   "execution_count": null,
   "metadata": {},
   "outputs": [],
   "source": [
    "def fetch_image_to_dir(query, output_dir, start_index=0, verbose=False):\n",
    "    query= query.split()\n",
    "    query='+'.join(query)\n",
    "\n",
    "    url=\"https://www.google.co.in/search?q=\"+query+\"&source=lnms&tbm=isch&tbs=sur:fc\"\n",
    "    res = session.get(url)\n",
    "\n",
    "    while not(res.ok):\n",
    "        time.sleep(1)\n",
    "        res = session.get(url)\n",
    "\n",
    "    i = start_index\n",
    "    for value in res.html.find('.rg_meta'):\n",
    "        json_data = json.loads(value.text)\n",
    "        img = json_data['ou']\n",
    "        ext = json_data['ity']\n",
    "\n",
    "        if ext == '':\n",
    "            continue\n",
    "    \n",
    "        if verbose:\n",
    "            print(f'Downloading i={i}: {img}')\n",
    "\n",
    "        try:\n",
    "            raw_img = requests.get(img, timeout=10).content\n",
    "            f = open(os.path.join(output_dir, f'img_{i}.{ext}'), 'wb')\n",
    "            f.write(raw_img)\n",
    "            f.close()\n",
    "        except Exception as e:\n",
    "            print(e)\n",
    "\n",
    "        i += 1\n",
    "        if (i - start_index) == max_image_per_query:\n",
    "            break\n",
    "    return i"
   ]
  },
  {
   "cell_type": "code",
   "execution_count": null,
   "metadata": {},
   "outputs": [],
   "source": [
    "for company, queries in keywords.items():\n",
    "    img_dir = os.path.join(image_dir_root, company)\n",
    "    if not os.path.exists(img_dir):\n",
    "        os.mkdir(img_dir)\n",
    "        \n",
    "    index = 0\n",
    "    for query in queries:\n",
    "        index = fetch_image_to_dir(query, img_dir, start_index=index, verbose=True)"
   ]
  },
  {
   "cell_type": "markdown",
   "metadata": {},
   "source": [
    "# View some results"
   ]
  }
 ],
 "metadata": {
  "kernelspec": {
   "display_name": "Python 3",
   "language": "python",
   "name": "python3"
  },
  "language_info": {
   "codemirror_mode": {
    "name": "ipython",
    "version": 3
   },
   "file_extension": ".py",
   "mimetype": "text/x-python",
   "name": "python",
   "nbconvert_exporter": "python",
   "pygments_lexer": "ipython3",
   "version": "3.7.4"
  }
 },
 "nbformat": 4,
 "nbformat_minor": 4
}
