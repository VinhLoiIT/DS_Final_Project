{
  "nbformat": 4,
  "nbformat_minor": 0,
  "metadata": {
    "colab": {
      "name": "pre_process_data.ipynb",
      "provenance": [],
      "collapsed_sections": [],
      "toc_visible": true
    },
    "kernelspec": {
      "name": "python3",
      "display_name": "Python 3"
    },
    "accelerator": "GPU"
  },
  "cells": [
    {
      "cell_type": "markdown",
      "metadata": {
        "id": "XyaZXDvnhCXA",
        "colab_type": "text"
      },
      "source": [
        "# **Crop Logos and Augmentation**\n",
        "Đầu tiên, từ tập ảnh download được ở bước trước, nhóm tiến hành lọc ra các hình ảnh không liên quan và đánh nhãn cho các hình ảnh còn lại. Ở bước này nhóm sẽ cắt các ảnh logo từ tập ảnh có label. Sau đó, nhóm sẽ thực hiện một số phép biến đổi trên các ảnh logo có được từ bước trên để tăng cường thêm dữ liệu."
      ]
    },
    {
      "cell_type": "code",
      "metadata": {
        "colab_type": "code",
        "id": "MqQldKA6AW_6",
        "colab": {}
      },
      "source": [
        "# Import library\n",
        "from skimage import io\n",
        "from skimage import util\n",
        "from skimage import filters\n",
        "from skimage import transform\n",
        "import numpy as np\n",
        "import random\n",
        "import os"
      ],
      "execution_count": 0,
      "outputs": []
    },
    {
      "cell_type": "code",
      "metadata": {
        "id": "S0sFWbIBN2A1",
        "colab_type": "code",
        "colab": {}
      },
      "source": [
        "# Define util functions\n",
        "\n",
        "def read_all_file_in_dir(in_dir):\n",
        "  files = []\n",
        "  for path, dir_names, file_names in os.walk(in_dir):\n",
        "    files += file_names\n",
        "    break\n",
        "  return files\n",
        "\n",
        "def read_all_dir_in_dir(in_dir):\n",
        "  dirs = []\n",
        "  for path, dir_names, file_names in os.walk(in_dir):\n",
        "    dirs += dir_names\n",
        "    break\n",
        "  return dirs\n",
        "\n",
        "def read_labels(label_dir, img_name):\n",
        "  labels = []\n",
        "  f = open(os.path.join(label_dir, img_name + '.txt'))\n",
        "  for line in f:\n",
        "    label = [float(x) for x in line.split()]\n",
        "    labels.append(label)\n",
        "  f.close()\n",
        "  return labels\n",
        "\n",
        "def augment_image(img, out_dir, index=0, ext='png'):\n",
        "  blurred_img = filters.gaussian(img, 1.5, multichannel=True)\n",
        "  noised_img = util.random_noise(img, mode='gaussian', var=random.uniform(0.005, 0.05))\n",
        "  horizontal_resized_img = transform.resize(img, (img.shape[0], int(img.shape[1] * random.uniform(1.2, 2.5))))\n",
        "  vertical_resized_img = transform.resize(img, (int(img.shape[0] * random.uniform(1.2, 2.5)), img.shape[1]))\n",
        "  io.imsave(os.path.join(out_dir, f'logo_{index}.{ext}'), util.img_as_ubyte(blurred_img))\n",
        "  io.imsave(os.path.join(out_dir, f'logo_{index+1}.{ext}'), util.img_as_ubyte(noised_img))\n",
        "  io.imsave(os.path.join(out_dir, f'logo_{index+2}.{ext}'), util.img_as_ubyte(horizontal_resized_img))\n",
        "  io.imsave(os.path.join(out_dir, f'logo_{index+3}.{ext}'), util.img_as_ubyte(vertical_resized_img))\n",
        "  return index + 4\n",
        "\n",
        "def crop_logo_from_img(img, labels, out_dir, index=0, ext='png', augmented_dir='./dataset/logos/augmented_logos'):\n",
        "  shape = img.shape\n",
        "  for label in labels:\n",
        "    x = label[1] * shape[1]\n",
        "    y = label[2] * shape[0]\n",
        "    width = label[3] * shape[1]\n",
        "    height = label[4] * shape[0]\n",
        "    logo = img[int(y-height / 2):int(y+height/2), int(x-width/2):int(x+width/2), :]\n",
        "    io.imsave(os.path.join(out_dir, f'logo_{index}.{ext}'), logo)\n",
        "    index = augment_image(util.img_as_ubyte(logo), augmented_dir, index=index+1, ext=ext)\n",
        "  return index"
      ],
      "execution_count": 0,
      "outputs": []
    },
    {
      "cell_type": "code",
      "metadata": {
        "colab_type": "code",
        "id": "_i_Fq-YGApiI",
        "colab": {}
      },
      "source": [
        "# Dataset directory\n",
        "img_dir = './dataset/images'\n",
        "label_dir = './dataset/labels'\n",
        "logo_dir = './dataset/logos'\n",
        "labels_file = './dataset/logo_labels.csv'\n",
        "augmented_logo_dir = './dataset/logos/augmented_logos'"
      ],
      "execution_count": 0,
      "outputs": []
    },
    {
      "cell_type": "code",
      "metadata": {
        "id": "es6LiSaBNSSb",
        "colab_type": "code",
        "colab": {}
      },
      "source": [
        "# Create folder to store logos\n",
        "if not os.path.exists(logo_dir):\n",
        "  os.mkdir(logo_dir)\n",
        "if not os.path.exists(augmented_logo_dir):\n",
        "  os.mkdir(augmented_logo_dir)"
      ],
      "execution_count": 0,
      "outputs": []
    },
    {
      "cell_type": "code",
      "metadata": {
        "id": "hUcPBBFdK-s9",
        "colab_type": "code",
        "outputId": "c0e8e93e-17f8-4647-a99c-4dedf54cd354",
        "colab": {
          "base_uri": "https://localhost:8080/",
          "height": 152
        }
      },
      "source": [
        "# Read child folders in image folder\n",
        "child_dir_names = read_all_dir_in_dir(img_dir)\n",
        "logo_labels = []\n",
        "\n",
        "# Read all images in each child folder\n",
        "index = 0\n",
        "for dir_name in child_dir_names:\n",
        "  child_image_dir = os.path.join(img_dir, dir_name)\n",
        "  child_label_dir = os.path.join(label_dir, dir_name)\n",
        "\n",
        "  file_names = read_all_file_in_dir(child_image_dir)\n",
        "  \n",
        "  for file_name in file_names:\n",
        "    ext = file_name.split('.')[-1]\n",
        "    img = io.imread(os.path.join(child_image_dir, file_name))\n",
        "    labels = read_labels(child_label_dir, file_name.split('.')[0])\n",
        "    new_index = crop_logo_from_img(img, labels=labels, out_dir=logo_dir, index=index, ext = ext)\n",
        "    logo_labels += [[(f'augmented_logos/logo_{x}.{ext}', f'logo_{x}.{ext}')[x % 5 == 0], dir_name] for x in range(index, new_index)]\n",
        "    index = new_index\n",
        "\n",
        "# Save labels to csv file\n",
        "np.savetxt(labels_file, np.array(logo_labels), delimiter='\\t', fmt='%s')"
      ],
      "execution_count": 66,
      "outputs": [
        {
          "output_type": "stream",
          "text": [
            "/usr/local/lib/python3.6/dist-packages/skimage/util/dtype.py:135: UserWarning: Possible precision loss when converting from float64 to uint8\n",
            "  .format(dtypeobj_in, dtypeobj_out))\n",
            "/usr/local/lib/python3.6/dist-packages/skimage/io/_io.py:141: UserWarning: ./dataset/logos/augmented_logos/logo_901.jpg is a low contrast image\n",
            "  warn('%s is a low contrast image' % fname)\n",
            "/usr/local/lib/python3.6/dist-packages/skimage/io/_io.py:141: UserWarning: ./dataset/logos/augmented_logos/logo_911.jpg is a low contrast image\n",
            "  warn('%s is a low contrast image' % fname)\n"
          ],
          "name": "stderr"
        }
      ]
    },
    {
      "cell_type": "code",
      "metadata": {
        "id": "k3QqFeECEi_o",
        "colab_type": "code",
        "colab": {}
      },
      "source": [
        "def augment_data_from_file_name_of_tiki(file_name, in_dir, out_dir, company='tiki'):\n",
        "  global index, logo_labels\n",
        "  ext = file_name.split('.')[-1]\n",
        "  img = io.imread(os.path.join(in_dir, file_name))\n",
        "  noised_img = util.random_noise(img, mode='gaussian', var=random.uniform(0.005, 0.05))\n",
        "  io.imsave(os.path.join(out_dir, f'logo_{index}.{ext}'), util.img_as_ubyte(noised_img))\n",
        "  logo_labels.append([f'augmented_logos/logo_{index}.{ext}', company])\n",
        "  index += 1\n",
        "\n",
        "def augment_data_from_file_name_of_viettel(file_name, in_dir, out_dir, company='viettel'):\n",
        "  global index, logo_labels\n",
        "  ext = file_name.split('.')[-1]\n",
        "  img = io.imread(os.path.join(in_dir, file_name))\n",
        "  noised_img = util.random_noise(img, mode='gaussian', var=random.uniform(0.005, 0.05))\n",
        "  horizontal_resized_img = transform.resize(img, (img.shape[0], int(img.shape[1] * random.uniform(1.2, 2.5))))\n",
        "  vertical_resized_img = transform.resize(img, (int(img.shape[0] * random.uniform(1.2, 2.5)), img.shape[1]))\n",
        "  io.imsave(os.path.join(out_dir, f'logo_{index}.{ext}'), util.img_as_ubyte(noised_img))\n",
        "  io.imsave(os.path.join(out_dir, f'logo_{index+1}.{ext}'), util.img_as_ubyte(horizontal_resized_img))\n",
        "  io.imsave(os.path.join(out_dir, f'logo_{index+2}.{ext}'), util.img_as_ubyte(vertical_resized_img))\n",
        "  logo_labels += [[f'augmented_logos/logo_{x}.{ext}', company] for x in range(index, index + 3)]\n",
        "  index += 3"
      ],
      "execution_count": 0,
      "outputs": []
    },
    {
      "cell_type": "code",
      "metadata": {
        "id": "L1q5039YFk4y",
        "colab_type": "code",
        "colab": {}
      },
      "source": [
        "tiki_df = df[df['Company'] == 'tiki']\n",
        "viettel_df = df[df['Company'] == 'viettel']"
      ],
      "execution_count": 0,
      "outputs": []
    },
    {
      "cell_type": "code",
      "metadata": {
        "id": "rVKUkaUKFrMv",
        "colab_type": "code",
        "colab": {}
      },
      "source": [
        "tiki_df['File name'].apply(augment_data_from_file_name_of_tiki, args=(logo_dir, augmented_logo_dir))\n",
        "viettel_df['File name'].apply(augment_data_from_file_name_of_viettel, args=(logo_dir, augmented_logo_dir))"
      ],
      "execution_count": 0,
      "outputs": []
    },
    {
      "cell_type": "code",
      "metadata": {
        "id": "gpba7X3wLTQM",
        "colab_type": "code",
        "colab": {}
      },
      "source": [
        "np.savetxt(labels_file, np.array(logo_labels), delimiter='\\t', fmt='%s')"
      ],
      "execution_count": 0,
      "outputs": []
    },
    {
      "cell_type": "code",
      "metadata": {
        "id": "prqZ2o_B6AJB",
        "colab_type": "code",
        "colab": {}
      },
      "source": [
        "import pandas as pd"
      ],
      "execution_count": 0,
      "outputs": []
    },
    {
      "cell_type": "code",
      "metadata": {
        "colab_type": "code",
        "outputId": "1db073cf-eb6e-4fea-8745-c404d5f8c3e8",
        "id": "iTlcxEOLEiL_",
        "colab": {
          "base_uri": "https://localhost:8080/",
          "height": 298
        }
      },
      "source": [
        "df = pd.DataFrame(logo_labels, columns=['File name', 'Company'])\n",
        "origin_logo_df = df[~df['File name'].str.contains('augmented_logos')]\n",
        "hist1 = origin_logo_df['Company'].hist()\n",
        "hist1.set_xlabel('Origin dataset')"
      ],
      "execution_count": 85,
      "outputs": [
        {
          "output_type": "execute_result",
          "data": {
            "text/plain": [
              "Text(0.5, 0, 'Origin dataset')"
            ]
          },
          "metadata": {
            "tags": []
          },
          "execution_count": 85
        },
        {
          "output_type": "display_data",
          "data": {
            "image/png": "[encoded data removed]",
            "text/plain": [
              "<Figure size 432x288 with 1 Axes>"
            ]
          },
          "metadata": {
            "tags": []
          }
        }
      ]
    },
    {
      "cell_type": "code",
      "metadata": {
        "id": "4y6ZkuAB2UQi",
        "colab_type": "code",
        "colab": {
          "base_uri": "https://localhost:8080/",
          "height": 298
        },
        "outputId": "22777508-f7e4-4abd-ce53-a4f480525bee"
      },
      "source": [
        "agmented_logo_df = df\n",
        "hist2 = agmented_logo_df['Company'].hist()\n",
        "hist2.set_xlabel('Augmented dataset')"
      ],
      "execution_count": 87,
      "outputs": [
        {
          "output_type": "execute_result",
          "data": {
            "text/plain": [
              "Text(0.5, 0, 'Augmented dataset')"
            ]
          },
          "metadata": {
            "tags": []
          },
          "execution_count": 87
        },
        {
          "output_type": "display_data",
          "data": {
            "image/png": "[encoded data removed]",
            "text/plain": [
              "<Figure size 432x288 with 1 Axes>"
            ]
          },
          "metadata": {
            "tags": []
          }
        }
      ]
    },
    {
      "cell_type": "code",
      "metadata": {
        "id": "-UC4yt455MvA",
        "colab_type": "code",
        "colab": {}
      },
      "source": [
        ""
      ],
      "execution_count": 0,
      "outputs": []
    }
  ]
}