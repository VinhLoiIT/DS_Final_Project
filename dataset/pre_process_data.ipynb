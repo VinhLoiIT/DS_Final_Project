{
  "nbformat": 4,
  "nbformat_minor": 0,
  "metadata": {
    "colab": {
      "name": "pre_process_data.ipynb",
      "provenance": [],
      "collapsed_sections": [
        "XyaZXDvnhCXA",
        "DVfM_cfRDjJX",
        "jhMb0UagRLsk"
      ]
    },
    "kernelspec": {
      "name": "python3",
      "display_name": "Python 3"
    },
    "accelerator": "GPU"
  },
  "cells": [
    {
      "cell_type": "markdown",
      "metadata": {
        "id": "XyaZXDvnhCXA",
        "colab_type": "text"
      },
      "source": [
        "# **Crop Logos and Augmentation**\n",
        "Đầu tiên, từ tập ảnh download được ở bước trước, nhóm tiến hành lọc ra các hình ảnh không liên quan và đánh nhãn cho các hình ảnh còn lại. Ở bước này nhóm sẽ cắt các ảnh logo từ tập ảnh có label. Sau đó, nhóm sẽ thực hiện một số phép biến đổi trên các ảnh logo có được từ bước trên để tăng cường thêm dữ liệu."
      ]
    },
    {
      "cell_type": "code",
      "metadata": {
        "colab_type": "code",
        "id": "MqQldKA6AW_6",
        "colab": {}
      },
      "source": [
        "# Import library\n",
        "from skimage import io\n",
        "from skimage import util\n",
        "from skimage import filters\n",
        "from skimage import transform\n",
        "from sklearn.model_selection import train_test_split\n",
        "import pandas as pd\n",
        "import numpy as np\n",
        "import random\n",
        "import os"
      ],
      "execution_count": 0,
      "outputs": []
    },
    {
      "cell_type": "code",
      "metadata": {
        "id": "S0sFWbIBN2A1",
        "colab_type": "code",
        "colab": {}
      },
      "source": [
        "# Define util functions\n",
        "\n",
        "def read_all_file_in_dir(in_dir):\n",
        "  files = []\n",
        "  for path, dir_names, file_names in os.walk(in_dir):\n",
        "    files += file_names\n",
        "    break\n",
        "  return files\n",
        "\n",
        "def read_all_dir_in_dir(in_dir):\n",
        "  dirs = []\n",
        "  for path, dir_names, file_names in os.walk(in_dir):\n",
        "    dirs += dir_names\n",
        "    break\n",
        "  return dirs\n",
        "\n",
        "def read_labels(label_dir, img_name):\n",
        "  labels = []\n",
        "  f = open(os.path.join(label_dir, img_name + '.txt'))\n",
        "  for line in f:\n",
        "    label = [float(x) for x in line.split()]\n",
        "    labels.append(label)\n",
        "  f.close()\n",
        "  return labels\n",
        "\n",
        "def augment_image(img, out_dir, index=0, ext='png'):\n",
        "  blurred_img = filters.gaussian(img, 1.5, multichannel=True)\n",
        "  noised_img = util.random_noise(img, mode='gaussian', var=random.uniform(0.005, 0.05))\n",
        "  horizontal_resized_img = transform.resize(img, (img.shape[0], int(img.shape[1] * random.uniform(1.2, 2.5))))\n",
        "  vertical_resized_img = transform.resize(img, (int(img.shape[0] * random.uniform(1.2, 2.5)), img.shape[1]))\n",
        "  io.imsave(os.path.join(out_dir, f'logo_{index}.{ext}'), util.img_as_ubyte(blurred_img))\n",
        "  io.imsave(os.path.join(out_dir, f'logo_{index+1}.{ext}'), util.img_as_ubyte(noised_img))\n",
        "  io.imsave(os.path.join(out_dir, f'logo_{index+2}.{ext}'), util.img_as_ubyte(horizontal_resized_img))\n",
        "  io.imsave(os.path.join(out_dir, f'logo_{index+3}.{ext}'), util.img_as_ubyte(vertical_resized_img))\n",
        "  return index + 4\n",
        "\n",
        "def crop_logo_from_img(img, labels, out_dir, index=0, ext='png', augmented_dir='./dataset/logos/augmented_logos'):\n",
        "  shape = img.shape\n",
        "  for label in labels:\n",
        "    x = label[1] * shape[1]\n",
        "    y = label[2] * shape[0]\n",
        "    width = label[3] * shape[1]\n",
        "    height = label[4] * shape[0]\n",
        "    logo = img[int(y-height / 2):int(y+height/2), int(x-width/2):int(x+width/2), :]\n",
        "    io.imsave(os.path.join(out_dir, f'logo_{index}.{ext}'), logo)\n",
        "    index = augment_image(util.img_as_ubyte(logo), augmented_dir, index=index+1, ext=ext)\n",
        "  return index"
      ],
      "execution_count": 0,
      "outputs": []
    },
    {
      "cell_type": "code",
      "metadata": {
        "colab_type": "code",
        "id": "_i_Fq-YGApiI",
        "colab": {}
      },
      "source": [
        "# Dataset directory\n",
        "img_dir = './dataset/images'\n",
        "label_dir = './dataset/labels'\n",
        "logo_dir = './dataset/logos'\n",
        "labels_file = './dataset/logo_labels.csv'\n",
        "augmented_logo_dir = './dataset/logos/augmented_logos'"
      ],
      "execution_count": 0,
      "outputs": []
    },
    {
      "cell_type": "code",
      "metadata": {
        "id": "es6LiSaBNSSb",
        "colab_type": "code",
        "colab": {}
      },
      "source": [
        "# Create folder to store logos\n",
        "if not os.path.exists(logo_dir):\n",
        "  os.mkdir(logo_dir)\n",
        "if not os.path.exists(augmented_logo_dir):\n",
        "  os.mkdir(augmented_logo_dir)"
      ],
      "execution_count": 0,
      "outputs": []
    },
    {
      "cell_type": "code",
      "metadata": {
        "id": "hUcPBBFdK-s9",
        "colab_type": "code",
        "outputId": "2db97798-4fc2-4c81-f118-527b797b3626",
        "colab": {
          "base_uri": "https://localhost:8080/",
          "height": 132
        }
      },
      "source": [
        "# Read child folders in image folder\n",
        "child_dir_names = read_all_dir_in_dir(img_dir)\n",
        "logo_labels = []\n",
        "\n",
        "# Read all images in each child folder\n",
        "index = 0\n",
        "for dir_name in child_dir_names:\n",
        "  child_image_dir = os.path.join(img_dir, dir_name)\n",
        "  child_label_dir = os.path.join(label_dir, dir_name)\n",
        "\n",
        "  file_names = read_all_file_in_dir(child_image_dir)\n",
        "  \n",
        "  for file_name in file_names:\n",
        "    ext = file_name.split('.')[-1]\n",
        "    img = io.imread(os.path.join(child_image_dir, file_name))\n",
        "    labels = read_labels(child_label_dir, file_name.split('.')[0])\n",
        "    new_index = crop_logo_from_img(img, labels=labels, out_dir=logo_dir, index=index, ext = ext)\n",
        "    logo_labels += [[(f'augmented_logos/logo_{x}.{ext}', f'logo_{x}.{ext}')[x % 5 == 0], dir_name, (f'logo_{(x//5)*5}.{ext}', '')[x % 5 == 0]] for x in range(index, new_index)]\n",
        "    index = new_index"
      ],
      "execution_count": 5,
      "outputs": [
        {
          "output_type": "stream",
          "text": [
            "/usr/local/lib/python3.6/dist-packages/skimage/util/dtype.py:135: UserWarning: Possible precision loss when converting from float64 to uint8\n",
            "  .format(dtypeobj_in, dtypeobj_out))\n",
            "/usr/local/lib/python3.6/dist-packages/skimage/io/_io.py:141: UserWarning: ./dataset/logos/augmented_logos/logo_236.jpg is a low contrast image\n",
            "  warn('%s is a low contrast image' % fname)\n",
            "/usr/local/lib/python3.6/dist-packages/skimage/io/_io.py:141: UserWarning: ./dataset/logos/augmented_logos/logo_246.jpg is a low contrast image\n",
            "  warn('%s is a low contrast image' % fname)\n"
          ],
          "name": "stderr"
        }
      ]
    },
    {
      "cell_type": "code",
      "metadata": {
        "colab_type": "code",
        "outputId": "b3177ac1-a834-407c-ac3a-60bb1115ae00",
        "id": "iTlcxEOLEiL_",
        "colab": {
          "base_uri": "https://localhost:8080/",
          "height": 298
        }
      },
      "source": [
        "all_companies_df = pd.DataFrame(logo_labels, columns=['File name', 'Company', 'Origin'])\n",
        "origin_logo_df = all_companies_df[~all_companies_df['File name'].str.contains('augmented_logos')]\n",
        "hist = origin_logo_df['Company'].hist()\n",
        "hist.set_xlabel('Origin dataset')"
      ],
      "execution_count": 6,
      "outputs": [
        {
          "output_type": "execute_result",
          "data": {
            "text/plain": [
              "Text(0.5, 0, 'Origin dataset')"
            ]
          },
          "metadata": {
            "tags": []
          },
          "execution_count": 6
        },
        {
          "output_type": "display_data",
          "data": {
            "image/png": "[encoded data removed]",
            "text/plain": [
              "<Figure size 432x288 with 1 Axes>"
            ]
          },
          "metadata": {
            "tags": []
          }
        }
      ]
    },
    {
      "cell_type": "code",
      "metadata": {
        "id": "Qp-9dSwzvCpS",
        "colab_type": "code",
        "colab": {}
      },
      "source": [
        "train_val_df, test_df = train_test_split(origin_logo_df, train_size=0.8, random_state=0, stratify=origin_logo_df['Company'])\n",
        "train_df, val_df = train_test_split(train_val_df, train_size=0.75, random_state=0, stratify=train_val_df['Company'])"
      ],
      "execution_count": 0,
      "outputs": []
    },
    {
      "cell_type": "code",
      "metadata": {
        "id": "VdyD7cUixxUY",
        "colab_type": "code",
        "outputId": "d11f51d2-be5e-4d1c-f2e2-5c32ea8c420e",
        "colab": {
          "base_uri": "https://localhost:8080/",
          "height": 298
        }
      },
      "source": [
        "hist = train_df['Company'].hist()\n",
        "hist.set_xlabel('Origin train histogram')"
      ],
      "execution_count": 8,
      "outputs": [
        {
          "output_type": "execute_result",
          "data": {
            "text/plain": [
              "Text(0.5, 0, 'Origin train histogram')"
            ]
          },
          "metadata": {
            "tags": []
          },
          "execution_count": 8
        },
        {
          "output_type": "display_data",
          "data": {
            "image/png": "[encoded data removed]",
            "text/plain": [
              "<Figure size 432x288 with 1 Axes>"
            ]
          },
          "metadata": {
            "tags": []
          }
        }
      ]
    },
    {
      "cell_type": "code",
      "metadata": {
        "id": "VwPTU1UrykaG",
        "colab_type": "code",
        "outputId": "226d5016-3f47-4047-e563-810f328aa9d4",
        "colab": {
          "base_uri": "https://localhost:8080/",
          "height": 298
        }
      },
      "source": [
        "hist = val_df['Company'].hist()\n",
        "hist.set_xlabel('Origin val histogram')"
      ],
      "execution_count": 9,
      "outputs": [
        {
          "output_type": "execute_result",
          "data": {
            "text/plain": [
              "Text(0.5, 0, 'Origin val histogram')"
            ]
          },
          "metadata": {
            "tags": []
          },
          "execution_count": 9
        },
        {
          "output_type": "display_data",
          "data": {
            "image/png": "[encoded data removed]",
            "text/plain": [
              "<Figure size 432x288 with 1 Axes>"
            ]
          },
          "metadata": {
            "tags": []
          }
        }
      ]
    },
    {
      "cell_type": "code",
      "metadata": {
        "id": "UN7l5OBryoCj",
        "colab_type": "code",
        "outputId": "b24c8002-eee2-411a-e9dd-caea5d8b2736",
        "colab": {
          "base_uri": "https://localhost:8080/",
          "height": 298
        }
      },
      "source": [
        "hist = test_df['Company'].hist()\n",
        "hist.set_xlabel('Origin test histogram')"
      ],
      "execution_count": 10,
      "outputs": [
        {
          "output_type": "execute_result",
          "data": {
            "text/plain": [
              "Text(0.5, 0, 'Origin test histogram')"
            ]
          },
          "metadata": {
            "tags": []
          },
          "execution_count": 10
        },
        {
          "output_type": "display_data",
          "data": {
            "image/png": "[encoded data removed]",
            "text/plain": [
              "<Figure size 432x288 with 1 Axes>"
            ]
          },
          "metadata": {
            "tags": []
          }
        }
      ]
    },
    {
      "cell_type": "code",
      "metadata": {
        "id": "mVw6d_VR2L11",
        "colab_type": "code",
        "colab": {}
      },
      "source": [
        "origin_str = train_df['File name'].str.cat(sep='|')\n",
        "augmented_train_df = train_df.append(all_companies_df[all_companies_df['Origin'].str.match(origin_str)])\n",
        "origin_str = val_df['File name'].str.cat(sep='|')\n",
        "augmented_val_df = val_df.append(all_companies_df[all_companies_df['Origin'].str.match(origin_str)])\n",
        "origin_str = test_df['File name'].str.cat(sep='|')\n",
        "augmented_test_df = test_df.append(all_companies_df[all_companies_df['Origin'].str.match(origin_str)])"
      ],
      "execution_count": 0,
      "outputs": []
    },
    {
      "cell_type": "code",
      "metadata": {
        "id": "EH2OZ9GQ4NVc",
        "colab_type": "code",
        "outputId": "0d2840fd-103e-4119-e65f-9047660f13a6",
        "colab": {
          "base_uri": "https://localhost:8080/",
          "height": 298
        }
      },
      "source": [
        "hist = augmented_train_df['Company'].hist()\n",
        "hist.set_xlabel('Augmented train histogram')"
      ],
      "execution_count": 12,
      "outputs": [
        {
          "output_type": "execute_result",
          "data": {
            "text/plain": [
              "Text(0.5, 0, 'Augmented train histogram')"
            ]
          },
          "metadata": {
            "tags": []
          },
          "execution_count": 12
        },
        {
          "output_type": "display_data",
          "data": {
            "image/png": "[encoded data removed]",
            "text/plain": [
              "<Figure size 432x288 with 1 Axes>"
            ]
          },
          "metadata": {
            "tags": []
          }
        }
      ]
    },
    {
      "cell_type": "code",
      "metadata": {
        "id": "x3nhqb9x5iJ4",
        "colab_type": "code",
        "outputId": "55071b6f-afc6-4a59-b52c-e8e3fc2c649b",
        "colab": {
          "base_uri": "https://localhost:8080/",
          "height": 298
        }
      },
      "source": [
        "hist = augmented_val_df['Company'].hist()\n",
        "hist.set_xlabel('Augmented val histogram')"
      ],
      "execution_count": 13,
      "outputs": [
        {
          "output_type": "execute_result",
          "data": {
            "text/plain": [
              "Text(0.5, 0, 'Augmented val histogram')"
            ]
          },
          "metadata": {
            "tags": []
          },
          "execution_count": 13
        },
        {
          "output_type": "display_data",
          "data": {
            "image/png": "[encoded data removed]",
            "text/plain": [
              "<Figure size 432x288 with 1 Axes>"
            ]
          },
          "metadata": {
            "tags": []
          }
        }
      ]
    },
    {
      "cell_type": "code",
      "metadata": {
        "id": "R6hfZooWAhnd",
        "colab_type": "code",
        "outputId": "2a90afd9-9c2c-4a9b-9215-7ae1dec105aa",
        "colab": {
          "base_uri": "https://localhost:8080/",
          "height": 298
        }
      },
      "source": [
        "hist = augmented_test_df['Company'].hist()\n",
        "hist.set_xlabel('Augmented test histogram')"
      ],
      "execution_count": 14,
      "outputs": [
        {
          "output_type": "execute_result",
          "data": {
            "text/plain": [
              "Text(0.5, 0, 'Augmented test histogram')"
            ]
          },
          "metadata": {
            "tags": []
          },
          "execution_count": 14
        },
        {
          "output_type": "display_data",
          "data": {
            "image/png": "[encoded data removed]",
            "text/plain": [
              "<Figure size 432x288 with 1 Axes>"
            ]
          },
          "metadata": {
            "tags": []
          }
        }
      ]
    },
    {
      "cell_type": "markdown",
      "metadata": {
        "id": "DVfM_cfRDjJX",
        "colab_type": "text"
      },
      "source": [
        "# Tăng cường thêm dữ liệu của lớp tiki"
      ]
    },
    {
      "cell_type": "code",
      "metadata": {
        "id": "jsZcLpuIFnuv",
        "colab_type": "code",
        "colab": {}
      },
      "source": [
        "def augment_data_from_file_name_of_tiki(row, in_dir, out_dir, index=0):\n",
        "  ext = row['File name'].split('.')[-1]\n",
        "  img = io.imread(os.path.join(in_dir, row['File name']))\n",
        "  noised_img = util.random_noise(img, mode='gaussian', var=random.uniform(0.005, 0.05))\n",
        "  io.imsave(os.path.join(out_dir, f'logo_{index+row.name}.{ext}'), util.img_as_ubyte(noised_img))\n",
        "  return [f'augmented_logos/logo_{index+row.name}.{ext}', 'tiki']"
      ],
      "execution_count": 0,
      "outputs": []
    },
    {
      "cell_type": "code",
      "metadata": {
        "id": "r-eZTGnKDo5X",
        "colab_type": "code",
        "colab": {}
      },
      "source": [
        "train_tiki_df = augmented_train_df[augmented_train_df['Company'] == 'tiki']\n",
        "val_tiki_df = augmented_val_df[augmented_val_df['Company'] == 'tiki']\n",
        "test_tiki_df = augmented_test_df[augmented_test_df['Company'] == 'tiki']"
      ],
      "execution_count": 0,
      "outputs": []
    },
    {
      "cell_type": "code",
      "metadata": {
        "id": "W3EpLeXYHFK2",
        "colab_type": "code",
        "outputId": "54a10420-b70e-408c-8165-f9b99aa1fc00",
        "colab": {
          "base_uri": "https://localhost:8080/",
          "height": 55
        }
      },
      "source": [
        "augmented_train_tiki_sr = train_tiki_df.reset_index().apply(augment_data_from_file_name_of_tiki, args=(logo_dir, augmented_logo_dir, index), axis=1)\n",
        "index += len(augmented_train_tiki_sr)\n",
        "\n",
        "augmented_val_tiki_sr = val_tiki_df.reset_index().apply(augment_data_from_file_name_of_tiki, args=(logo_dir, augmented_logo_dir, index), axis=1)\n",
        "index += len(augmented_val_tiki_sr)\n",
        "\n",
        "augmented_test_tiki_sr = test_tiki_df.reset_index().apply(augment_data_from_file_name_of_tiki, args=(logo_dir, augmented_logo_dir, index), axis=1)\n",
        "index += len(augmented_test_tiki_sr)"
      ],
      "execution_count": 17,
      "outputs": [
        {
          "output_type": "stream",
          "text": [
            "/usr/local/lib/python3.6/dist-packages/skimage/util/dtype.py:135: UserWarning: Possible precision loss when converting from float64 to uint8\n",
            "  .format(dtypeobj_in, dtypeobj_out))\n"
          ],
          "name": "stderr"
        }
      ]
    },
    {
      "cell_type": "markdown",
      "metadata": {
        "id": "jhMb0UagRLsk",
        "colab_type": "text"
      },
      "source": [
        "# Tăng cường thêm dữ liệu của lớp viettel"
      ]
    },
    {
      "cell_type": "code",
      "metadata": {
        "id": "BxMMA5iIR3A2",
        "colab_type": "code",
        "colab": {}
      },
      "source": [
        "def augment_data_from_file_name_of_viettel(row, in_dir, out_dir, index=0):\n",
        "  ext = row['File name'].split('.')[-1]\n",
        "  img = io.imread(os.path.join(in_dir, row['File name']))\n",
        "  noised_img = util.random_noise(img, mode='gaussian', var=random.uniform(0.005, 0.05))\n",
        "  horizontal_resized_img = transform.resize(img, (img.shape[0], int(img.shape[1] * random.uniform(1.2, 2.5))))\n",
        "  vertical_resized_img = transform.resize(img, (int(img.shape[0] * random.uniform(1.2, 2.5)), img.shape[1]))\n",
        "\n",
        "  io.imsave(os.path.join(out_dir, f'logo_{index+row.name*3}.{ext}'), util.img_as_ubyte(noised_img))\n",
        "  io.imsave(os.path.join(out_dir, f'logo_{index+row.name*3+1}.{ext}'), util.img_as_ubyte(horizontal_resized_img))\n",
        "  io.imsave(os.path.join(out_dir, f'logo_{index+row.name*3+2}.{ext}'), util.img_as_ubyte(vertical_resized_img))\n",
        "\n",
        "  return [[f'augmented_logos/logo_{x}.{ext}', 'viettel'] for x in range(index+row.name*3, index+row.name*3+3)]"
      ],
      "execution_count": 0,
      "outputs": []
    },
    {
      "cell_type": "code",
      "metadata": {
        "id": "x8nFyvtiRPRE",
        "colab_type": "code",
        "colab": {}
      },
      "source": [
        "train_viettel_df = augmented_train_df[augmented_train_df['Company'] == 'viettel']\n",
        "val_viettel_df = augmented_val_df[augmented_val_df['Company'] == 'viettel']\n",
        "test_viettel_df = augmented_test_df[augmented_test_df['Company'] == 'viettel']"
      ],
      "execution_count": 0,
      "outputs": []
    },
    {
      "cell_type": "code",
      "metadata": {
        "id": "h9WvlgizRm8C",
        "colab_type": "code",
        "outputId": "e004a89d-3769-440d-a679-7e29a79449da",
        "colab": {
          "base_uri": "https://localhost:8080/",
          "height": 55
        }
      },
      "source": [
        "augmented_train_viettel_sr = train_viettel_df.reset_index().apply(augment_data_from_file_name_of_viettel, args=(logo_dir, augmented_logo_dir, index), axis=1)\n",
        "index += len(augmented_train_viettel_sr)*3\n",
        "\n",
        "augmented_val_viettel_sr = val_viettel_df.reset_index().apply(augment_data_from_file_name_of_viettel, args=(logo_dir, augmented_logo_dir, index), axis=1)\n",
        "index += len(augmented_val_viettel_sr)*3\n",
        "\n",
        "augmented_test_viettel_sr = test_viettel_df.reset_index().apply(augment_data_from_file_name_of_viettel, args=(logo_dir, augmented_logo_dir, index), axis=1)\n",
        "index += len(augmented_test_viettel_sr)*3"
      ],
      "execution_count": 20,
      "outputs": [
        {
          "output_type": "stream",
          "text": [
            "/usr/local/lib/python3.6/dist-packages/skimage/util/dtype.py:135: UserWarning: Possible precision loss when converting from float64 to uint8\n",
            "  .format(dtypeobj_in, dtypeobj_out))\n"
          ],
          "name": "stderr"
        }
      ]
    },
    {
      "cell_type": "markdown",
      "metadata": {
        "id": "-Pdxi19dUzWK",
        "colab_type": "text"
      },
      "source": [
        "# Final datset and histogram"
      ]
    },
    {
      "cell_type": "code",
      "metadata": {
        "id": "v9ww3UZIUxxj",
        "colab_type": "code",
        "colab": {}
      },
      "source": [
        "final_train_df = augmented_train_df.append(pd.DataFrame(augmented_train_tiki_sr.tolist(), columns=['File name', 'Company']), sort=True)\n",
        "final_val_df = augmented_val_df.append(pd.DataFrame(augmented_val_tiki_sr.tolist(), columns=['File name', 'Company']), sort=True)\n",
        "final_test_df = augmented_test_df.append(pd.DataFrame(augmented_test_tiki_sr.tolist(), columns=['File name', 'Company']), sort=True)"
      ],
      "execution_count": 0,
      "outputs": []
    },
    {
      "cell_type": "code",
      "metadata": {
        "id": "JeuQ_Wv-cJZz",
        "colab_type": "code",
        "colab": {}
      },
      "source": [
        "final_train_df = final_train_df.append(pd.DataFrame(augmented_train_viettel_sr.explode().tolist(), columns=['File name', 'Company']), sort=True)\n",
        "final_val_df = final_val_df.append(pd.DataFrame(augmented_val_viettel_sr.explode().tolist(), columns=['File name', 'Company']), sort=True)\n",
        "final_test_df = final_test_df.append(pd.DataFrame(augmented_test_viettel_sr.explode().tolist(), columns=['File name', 'Company']), sort=True)"
      ],
      "execution_count": 0,
      "outputs": []
    },
    {
      "cell_type": "code",
      "metadata": {
        "id": "ZwAia_Fhck2q",
        "colab_type": "code",
        "outputId": "0b0bc282-d674-4e63-ce04-056400ed3ea4",
        "colab": {
          "base_uri": "https://localhost:8080/",
          "height": 298
        }
      },
      "source": [
        "hist = final_train_df['Company'].hist()\n",
        "hist.set_xlabel('Final train histogram')"
      ],
      "execution_count": 23,
      "outputs": [
        {
          "output_type": "execute_result",
          "data": {
            "text/plain": [
              "Text(0.5, 0, 'Final train histogram')"
            ]
          },
          "metadata": {
            "tags": []
          },
          "execution_count": 23
        },
        {
          "output_type": "display_data",
          "data": {
            "image/png": "[encoded data removed]",
            "text/plain": [
              "<Figure size 432x288 with 1 Axes>"
            ]
          },
          "metadata": {
            "tags": []
          }
        }
      ]
    },
    {
      "cell_type": "code",
      "metadata": {
        "id": "ApkJ02_4c11N",
        "colab_type": "code",
        "outputId": "d308a3db-df8c-49de-efe9-b1f4f6e2b037",
        "colab": {
          "base_uri": "https://localhost:8080/",
          "height": 298
        }
      },
      "source": [
        "hist = final_val_df['Company'].hist()\n",
        "hist.set_xlabel('Final validation histogram')"
      ],
      "execution_count": 24,
      "outputs": [
        {
          "output_type": "execute_result",
          "data": {
            "text/plain": [
              "Text(0.5, 0, 'Final validation histogram')"
            ]
          },
          "metadata": {
            "tags": []
          },
          "execution_count": 24
        },
        {
          "output_type": "display_data",
          "data": {
            "image/png": "[encoded data removed]",
            "text/plain": [
              "<Figure size 432x288 with 1 Axes>"
            ]
          },
          "metadata": {
            "tags": []
          }
        }
      ]
    },
    {
      "cell_type": "code",
      "metadata": {
        "id": "OKCTFLqac42u",
        "colab_type": "code",
        "outputId": "7bd919f2-2868-4721-f68c-fc4840cc490e",
        "colab": {
          "base_uri": "https://localhost:8080/",
          "height": 298
        }
      },
      "source": [
        "hist = final_test_df['Company'].hist()\n",
        "hist.set_xlabel('Final test histogram')"
      ],
      "execution_count": 25,
      "outputs": [
        {
          "output_type": "execute_result",
          "data": {
            "text/plain": [
              "Text(0.5, 0, 'Final test histogram')"
            ]
          },
          "metadata": {
            "tags": []
          },
          "execution_count": 25
        },
        {
          "output_type": "display_data",
          "data": {
            "image/png": "[encoded data removed]",
            "text/plain": [
              "<Figure size 432x288 with 1 Axes>"
            ]
          },
          "metadata": {
            "tags": []
          }
        }
      ]
    },
    {
      "cell_type": "code",
      "metadata": {
        "id": "sE-fudGQdKqS",
        "colab_type": "code",
        "outputId": "da8509fc-d36d-47c3-b128-6f7763775d31",
        "colab": {
          "base_uri": "https://localhost:8080/",
          "height": 298
        }
      },
      "source": [
        "final_df = final_train_df.append(final_test_df.append(final_val_df))\n",
        "hist = final_df['Company'].hist()\n",
        "hist.set_xlabel('Final dataset histogram')"
      ],
      "execution_count": 26,
      "outputs": [
        {
          "output_type": "execute_result",
          "data": {
            "text/plain": [
              "Text(0.5, 0, 'Final dataset histogram')"
            ]
          },
          "metadata": {
            "tags": []
          },
          "execution_count": 26
        },
        {
          "output_type": "display_data",
          "data": {
            "image/png": "[encoded data removed]",
            "text/plain": [
              "<Figure size 432x288 with 1 Axes>"
            ]
          },
          "metadata": {
            "tags": []
          }
        }
      ]
    },
    {
      "cell_type": "code",
      "metadata": {
        "id": "kBSwbxJseMA0",
        "colab_type": "code",
        "colab": {}
      },
      "source": [
        "final_train_df[['File name', 'Company']].to_csv('./dataset/train.csv', index=False, header=True)\n",
        "final_val_df[['File name', 'Company']].to_csv('./dataset/val.csv', index=False, header=True)\n",
        "final_test_df[['File name', 'Company']].to_csv('./dataset/test.csv', index=False, header=True)\n",
        "\n",
        "train_df[['File name', 'Company']].to_csv('./dataset/origin_train.csv', index=False, header=True)\n",
        "val_df[['File name', 'Company']].to_csv('./dataset/origin_val.csv', index=False, header=True)\n",
        "test_df[['File name', 'Company']].to_csv('./dataset/origin_test.csv', index=False, header=True)"
      ],
      "execution_count": 0,
      "outputs": []
    }
  ]
}