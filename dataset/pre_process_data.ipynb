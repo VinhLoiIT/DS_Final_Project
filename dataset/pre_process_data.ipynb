{
  "nbformat": 4,
  "nbformat_minor": 0,
  "metadata": {
    "colab": {
      "name": "PreProcessing.ipynb",
      "provenance": [],
      "collapsed_sections": [],
      "toc_visible": true
    },
    "kernelspec": {
      "name": "python3",
      "display_name": "Python 3"
    },
    "accelerator": "GPU"
  },
  "cells": [
    {
      "cell_type": "markdown",
      "metadata": {
        "id": "XyaZXDvnhCXA",
        "colab_type": "text"
      },
      "source": [
        "# **Crop Logos**\n",
        "Đầu tiên, từ tập ảnh download được ở bước trước, nhóm tiến hành lọc ra các hình ảnh không liên quan và đánh nhãn cho các hình ảnh còn lại. Ở bước này nhóm sẽ cắt các ảnh logo từ tập ảnh có label."
      ]
    },
    {
      "cell_type": "code",
      "metadata": {
        "colab_type": "code",
        "id": "MqQldKA6AW_6",
        "colab": {}
      },
      "source": [
        "# Import library\n",
        "from skimage import io\n",
        "from skimage import util\n",
        "import os"
      ],
      "execution_count": 0,
      "outputs": []
    },
    {
      "cell_type": "code",
      "metadata": {
        "id": "S0sFWbIBN2A1",
        "colab_type": "code",
        "colab": {}
      },
      "source": [
        "# Define util functions\n",
        "\n",
        "def read_all_file_in_dir(dir_name):\n",
        "  files = []\n",
        "  for path, dir_names, file_names in os.walk(dir_name):\n",
        "    files += file_names\n",
        "    break\n",
        "  return files\n",
        "\n",
        "def read_all_dir_in_dir(dir_name):\n",
        "  dirs = []\n",
        "  for path, dir_names, file_names in os.walk(dir_name):\n",
        "    dirs += dir_names\n",
        "    break\n",
        "  return dirs\n",
        "\n",
        "def read_labels(label_dir, img_name):\n",
        "  labels = []\n",
        "  f = open(os.path.join(label_dir, img_name + '.txt'))\n",
        "  for line in f:\n",
        "    label = [float(x) for x in line.split()]\n",
        "    labels.append(label)\n",
        "  f.close()\n",
        "  return labels\n",
        "\n",
        "def crop_logo_from_img(img, labels, dir_name, index=0, ext='png'):\n",
        "  shape = img.shape\n",
        "  for label in labels:\n",
        "    x = label[1] * shape[1]\n",
        "    y = label[2] * shape[0]\n",
        "    width = label[3] * shape[1]\n",
        "    height = label[4] * shape[0]\n",
        "    logo = img[int(y-height / 2):int(y+height/2), int(x-width/2):int(x+width/2), :]\n",
        "    io.imsave(os.path.join(dir_name, f'logo_{index}.{ext}'), logo)\n",
        "    index += 1\n",
        "  return index"
      ],
      "execution_count": 0,
      "outputs": []
    },
    {
      "cell_type": "code",
      "metadata": {
        "colab_type": "code",
        "id": "_i_Fq-YGApiI",
        "colab": {}
      },
      "source": [
        "# Dataset directory\n",
        "img_dir = './dataset/images'\n",
        "label_dir = './dataset/labels'\n",
        "logo_dir = './dataset/logos'"
      ],
      "execution_count": 0,
      "outputs": []
    },
    {
      "cell_type": "code",
      "metadata": {
        "id": "es6LiSaBNSSb",
        "colab_type": "code",
        "colab": {}
      },
      "source": [
        "# Create folder to store logos\n",
        "if not os.path.exists(logo_dir):\n",
        "  os.mkdir(logo_dir)"
      ],
      "execution_count": 0,
      "outputs": []
    },
    {
      "cell_type": "code",
      "metadata": {
        "id": "hUcPBBFdK-s9",
        "colab_type": "code",
        "colab": {}
      },
      "source": [
        "# Read child folders in image folder\n",
        "child_dir_names = read_all_dir_in_dir(img_dir)\n",
        "\n",
        "# Read all image in each child folder\n",
        "index = 0\n",
        "for dir_name in child_dir_names:\n",
        "  child_image_dir = os.path.join(img_dir, dir_name)\n",
        "  child_label_dir = os.path.join(label_dir, dir_name)\n",
        "  child_logo_dir = os.path.join(logo_dir, dir_name)\n",
        "\n",
        "  if not os.path.exists(child_logo_dir):\n",
        "    os.mkdir(child_logo_dir)\n",
        "\n",
        "  file_names = read_all_file_in_dir(child_image_dir)\n",
        "  \n",
        "  for file_name in file_names:\n",
        "    ext = file_name.split('.')[-1]\n",
        "    img = io.imread(os.path.join(child_image_dir, file_name))\n",
        "    labels = read_labels(child_label_dir, file_name.split('.')[0])\n",
        "    index = crop_logo_from_img(img, labels=labels, dir_name=os.path.join(logo_dir, dir_name), index=index, ext = ext)"
      ],
      "execution_count": 0,
      "outputs": []
    },
    {
      "cell_type": "markdown",
      "metadata": {
        "id": "n7ri6X6Hh7Kb",
        "colab_type": "text"
      },
      "source": [
        "# **Data Augmentation**\n",
        "\n",
        "Ở bước này, nhóm sẽ thực hiện một số phép biến đổi trên các ảnh logo có được từ bước trên để tăng cường thêm dữ liệu."
      ]
    },
    {
      "cell_type": "code",
      "metadata": {
        "id": "5ilvaHnYo9zc",
        "colab_type": "code",
        "colab": {}
      },
      "source": [
        "# Import library\n",
        "\n",
        "from skimage import filters\n",
        "from skimage import transform\n",
        "import numpy as np\n",
        "import random"
      ],
      "execution_count": 0,
      "outputs": []
    },
    {
      "cell_type": "code",
      "metadata": {
        "colab_type": "code",
        "id": "AtmBt0A157RO",
        "colab": {}
      },
      "source": [
        "def augment_image(img, dir_name, index=0, ext='png'):\n",
        "  blured_img = filters.gaussian(img, random.uniform(1, 2), multichannel=True)\n",
        "  noised_img = util.random_noise(img, mode='gaussian', var=random.uniform(0.005, 0.05))\n",
        "  horizontal_resized_img = transform.resize(img, (img.shape[0], int(img.shape[1] * random.uniform(1.2, 2.5))))\n",
        "  vertical_resized_img = transform.resize(img, (int(img.shape[0] * random.uniform(1.2, 2.5)), img.shape[1]))\n",
        "  io.imsave(os.path.join(dir_name, f'logo_{index}.{ext}'), blured_img, check_contrast=False)\n",
        "  io.imsave(os.path.join(dir_name, f'logo_{index+1}.{ext}'), noised_img, check_contrast=False)\n",
        "  io.imsave(os.path.join(dir_name, f'logo_{index+2}.{ext}'), horizontal_resized_img, check_contrast=False)\n",
        "  io.imsave(os.path.join(dir_name, f'logo_{index+3}.{ext}'), vertical_resized_img, check_contrast=False)\n",
        "  return index + 4"
      ],
      "execution_count": 0,
      "outputs": []
    },
    {
      "cell_type": "code",
      "metadata": {
        "id": "B97feiZOy8UU",
        "colab_type": "code",
        "colab": {}
      },
      "source": [
        "# Read child folders in image folder\n",
        "child_dir_names = read_all_dir_in_dir(logo_dir)\n",
        "\n",
        "# Read all image in each child folder\n",
        "for dir_name in child_dir_names:\n",
        "  child_logo_dir = os.path.join(logo_dir, dir_name)\n",
        "\n",
        "  file_names = read_all_file_in_dir(child_logo_dir)\n",
        "  \n",
        "  for file_name in file_names:\n",
        "    ext = file_name.split('.')[-1]\n",
        "    img = io.imread(os.path.join(child_logo_dir, file_name))\n",
        "    index = augment_image(img, child_logo_dir, index=index, ext=ext)"
      ],
      "execution_count": 0,
      "outputs": []
    }
  ]
}