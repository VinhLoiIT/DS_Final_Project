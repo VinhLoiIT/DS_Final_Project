{
 "cells": [
  {
   "cell_type": "code",
   "execution_count": 3,
   "metadata": {},
   "outputs": [],
   "source": [
    "import requests\n",
    "from requests_html import HTMLSession"
   ]
  },
  {
   "cell_type": "code",
   "execution_count": 4,
   "metadata": {},
   "outputs": [],
   "source": [
    "session = HTMLSession()"
   ]
  },
  {
   "cell_type": "code",
   "execution_count": 5,
   "metadata": {},
   "outputs": [],
   "source": [
    "urls = [\n",
    "    'https://www.google.com/search?biw=1366&bih=639&tbm=isch&sxsrf=ACYBGNQo63oaQ39JwXb3aambSxd9gPydYw%3A1574769438691&sa=1&ei=HhPdXfXgKdmP4-EP9sODoAs&q=cong+ty+viettel&oq=cong+ty+viettel&gs_l=img.3..0i30.8819.10206..10404...0.0..0.87.699.10......0....1..gws-wiz-img.......35i39j0j0i7i30j0i8i7i30j0i10i24j0i24.Viw2zpGPkCo&ved=0ahUKEwj15_un6YfmAhXZxzgGHfbhALQQ4dUDCAc&uact=5#imgrc=PiDMNGPFdybn9M:'\n",
    "]"
   ]
  },
  {
   "cell_type": "code",
   "execution_count": 6,
   "metadata": {},
   "outputs": [],
   "source": [
    "url = urls[0]"
   ]
  },
  {
   "cell_type": "code",
   "execution_count": 7,
   "metadata": {},
   "outputs": [],
   "source": [
    "r = session.get(url)"
   ]
  },
  {
   "cell_type": "code",
   "execution_count": 8,
   "metadata": {},
   "outputs": [
    {
     "data": {
      "text/plain": [
       "True"
      ]
     },
     "execution_count": 8,
     "metadata": {},
     "output_type": "execute_result"
    }
   ],
   "source": [
    "r.ok"
   ]
  },
  {
   "cell_type": "code",
   "execution_count": 31,
   "metadata": {},
   "outputs": [
    {
     "data": {
      "text/plain": [
       "[]"
      ]
     },
     "execution_count": 31,
     "metadata": {},
     "output_type": "execute_result"
    }
   ],
   "source": [
    "imgs = r.html.find('#irc-mic')\n",
    "\n",
    "imgs"
   ]
  },
  {
   "cell_type": "code",
   "execution_count": 20,
   "metadata": {},
   "outputs": [
    {
     "data": {
      "text/plain": [
       "{'id': 'A9fZ57U0YekP7M:',\n",
       " 'src': 'data:image/gif;base64,R0lGODlhAQABAIAAAP///////yH5BAEKAAEALAAAAAABAAEAAAICTAEAOw==',\n",
       " 'jsaction': 'load:str.tbn',\n",
       " 'class': ('rg_ic', 'rg_i'),\n",
       " 'alt': 'Kết quả hình ảnh cho cong ty viettel',\n",
       " 'data-deferred': '1'}"
      ]
     },
     "execution_count": 20,
     "metadata": {},
     "output_type": "execute_result"
    }
   ],
   "source": [
    "img.attrs"
   ]
  },
  {
   "cell_type": "code",
   "execution_count": 16,
   "metadata": {},
   "outputs": [
    {
     "name": "stdout",
     "output_type": "stream",
     "text": [
      "<Element 'img' id='HKSotmsPp_954M:' src='data:image/gif;base64,R0lGODlhAQABAIAAAP///////yH5BAEKAAEALAAAAAABAAEAAAICTAEAOw==' jsaction='load:str.tbn' class=('rg_ic', 'rg_i') alt='Kết quả hình ảnh cho cong ty viettel' data-deferred='1'>\n",
      "<Element 'img' id='A9fZ57U0YekP7M:' src='data:image/gif;base64,R0lGODlhAQABAIAAAP///////yH5BAEKAAEALAAAAAABAAEAAAICTAEAOw==' jsaction='load:str.tbn' class=('rg_ic', 'rg_i') alt='Kết quả hình ảnh cho cong ty viettel' data-deferred='1'>\n",
      "<Element 'img' id='VuC2iLiaEihL2M:' src='data:image/gif;base64,R0lGODlhAQABAIAAAP///////yH5BAEKAAEALAAAAAABAAEAAAICTAEAOw==' jsaction='load:str.tbn' class=('rg_ic', 'rg_i') alt='Kết quả hình ảnh cho cong ty viettel' data-deferred='1'>\n",
      "<Element 'img' id='xO9QHs8b6dKzOM:' src='data:image/gif;base64,R0lGODlhAQABAIAAAP///////yH5BAEKAAEALAAAAAABAAEAAAICTAEAOw==' jsaction='load:str.tbn' class=('rg_ic', 'rg_i') alt='Kết quả hình ảnh cho cong ty viettel' data-deferred='1'>\n",
      "<Element 'img' id='0xFNnHoB8ocXCM:' src='data:image/gif;base64,R0lGODlhAQABAIAAAP///////yH5BAEKAAEALAAAAAABAAEAAAICTAEAOw==' jsaction='load:str.tbn' class=('rg_ic', 'rg_i') alt='Kết quả hình ảnh cho cong ty viettel' data-deferred='1'>\n",
      "<Element 'img' id='uEYHBpnIrWqK4M:' src='data:image/gif;base64,R0lGODlhAQABAIAAAP///////yH5BAEKAAEALAAAAAABAAEAAAICTAEAOw==' jsaction='load:str.tbn' class=('rg_ic', 'rg_i') alt='Kết quả hình ảnh cho cong ty viettel' data-deferred='1'>\n",
      "<Element 'img' id='_PScIx4Gsc3OHM:' src='data:image/gif;base64,R0lGODlhAQABAIAAAP///////yH5BAEKAAEALAAAAAABAAEAAAICTAEAOw==' jsaction='load:str.tbn' class=('rg_ic', 'rg_i') alt='Kết quả hình ảnh cho cong ty viettel' data-deferred='1'>\n",
      "<Element 'img' id='93S49CFKIVlOkM:' src='data:image/gif;base64,R0lGODlhAQABAIAAAP///////yH5BAEKAAEALAAAAAABAAEAAAICTAEAOw==' jsaction='load:str.tbn' class=('rg_ic', 'rg_i') alt='Kết quả hình ảnh cho cong ty viettel' data-deferred='1'>\n",
      "<Element 'img' id='d6JORNqToCNCVM:' src='data:image/gif;base64,R0lGODlhAQABAIAAAP///////yH5BAEKAAEALAAAAAABAAEAAAICTAEAOw==' jsaction='load:str.tbn' class=('rg_ic', 'rg_i') alt='Kết quả hình ảnh cho cong ty viettel' data-deferred='1'>\n",
      "<Element 'img' id='OtSSJGJ7hrFNOM:' src='data:image/gif;base64,R0lGODlhAQABAIAAAP///////yH5BAEKAAEALAAAAAABAAEAAAICTAEAOw==' jsaction='load:str.tbn' class=('rg_ic', 'rg_i') alt='Kết quả hình ảnh cho cong ty viettel' data-deferred='1'>\n",
      "<Element 'img' id='yP8BKyytNabR3M:' src='data:image/gif;base64,R0lGODlhAQABAIAAAP///////yH5BAEKAAEALAAAAAABAAEAAAICTAEAOw==' jsaction='load:str.tbn' class=('rg_ic', 'rg_i') alt='Kết quả hình ảnh cho cong ty viettel' data-deferred='1'>\n",
      "<Element 'img' id='A8Wu_jSMXfvFTM:' src='data:image/gif;base64,R0lGODlhAQABAIAAAP///////yH5BAEKAAEALAAAAAABAAEAAAICTAEAOw==' jsaction='load:str.tbn' class=('rg_ic', 'rg_i') alt='Kết quả hình ảnh cho cong ty viettel' data-deferred='1'>\n",
      "<Element 'img' id='Qh6olhj_juV9kM:' src='data:image/gif;base64,R0lGODlhAQABAIAAAP///////yH5BAEKAAEALAAAAAABAAEAAAICTAEAOw==' jsaction='load:str.tbn' class=('rg_ic', 'rg_i') alt='Kết quả hình ảnh cho cong ty viettel' data-deferred='1'>\n",
      "<Element 'img' id='0LvgzpmsAyur8M:' src='data:image/gif;base64,R0lGODlhAQABAIAAAP///////yH5BAEKAAEALAAAAAABAAEAAAICTAEAOw==' jsaction='load:str.tbn' class=('rg_ic', 'rg_i') alt='Kết quả hình ảnh cho cong ty viettel' data-deferred='1'>\n",
      "<Element 'img' id='XSNLJZGjFJuSPM:' src='data:image/gif;base64,R0lGODlhAQABAIAAAP///////yH5BAEKAAEALAAAAAABAAEAAAICTAEAOw==' jsaction='load:str.tbn' class=('rg_ic', 'rg_i') alt='Kết quả hình ảnh cho cong ty viettel' data-deferred='1'>\n",
      "<Element 'img' id='m9n1Yt93yAt4xM:' src='data:image/gif;base64,R0lGODlhAQABAIAAAP///////yH5BAEKAAEALAAAAAABAAEAAAICTAEAOw==' jsaction='load:str.tbn' class=('rg_ic', 'rg_i') alt='Kết quả hình ảnh cho cong ty viettel' data-deferred='1'>\n",
      "<Element 'img' id='jxVBDJPQ6xe33M:' src='data:image/gif;base64,R0lGODlhAQABAIAAAP///////yH5BAEKAAEALAAAAAABAAEAAAICTAEAOw==' jsaction='load:str.tbn' class=('rg_ic', 'rg_i') alt='Kết quả hình ảnh cho cong ty viettel' data-deferred='1'>\n",
      "<Element 'img' id='5Ynn8wywjZiCUM:' src='data:image/gif;base64,R0lGODlhAQABAIAAAP///////yH5BAEKAAEALAAAAAABAAEAAAICTAEAOw==' jsaction='load:str.tbn' class=('rg_ic', 'rg_i') alt='Kết quả hình ảnh cho cong ty viettel' data-deferred='1'>\n",
      "<Element 'img' id='L9JGoUl6h-6m5M:' src='data:image/gif;base64,R0lGODlhAQABAIAAAP///////yH5BAEKAAEALAAAAAABAAEAAAICTAEAOw==' jsaction='load:str.tbn' class=('rg_ic', 'rg_i') alt='Kết quả hình ảnh cho cong ty viettel' data-deferred='1'>\n",
      "<Element 'img' id='-4y6nrFPovJTrM:' src='data:image/gif;base64,R0lGODlhAQABAIAAAP///////yH5BAEKAAEALAAAAAABAAEAAAICTAEAOw==' jsaction='load:str.tbn' class=('rg_ic', 'rg_i') alt='Kết quả hình ảnh cho cong ty viettel' data-deferred='1'>\n"
     ]
    }
   ],
   "source": [
    "for img in imgs:\n",
    "    img."
   ]
  },
  {
   "cell_type": "code",
   "execution_count": null,
   "metadata": {},
   "outputs": [],
   "source": []
  }
 ],
 "metadata": {
  "kernelspec": {
   "display_name": "Python 3",
   "language": "python",
   "name": "python3"
  },
  "language_info": {
   "codemirror_mode": {
    "name": "ipython",
    "version": 3
   },
   "file_extension": ".py",
   "mimetype": "text/x-python",
   "name": "python",
   "nbconvert_exporter": "python",
   "pygments_lexer": "ipython3",
   "version": "3.7.4"
  }
 },
 "nbformat": 4,
 "nbformat_minor": 4
}
