{
  "nbformat": 4,
  "nbformat_minor": 0,
  "metadata": {
    "colab": {
      "name": "collect_data.ipynb",
      "provenance": [],
      "collapsed_sections": [],
      "toc_visible": true
    },
    "kernelspec": {
      "display_name": "Python 3",
      "language": "python",
      "name": "python3"
    },
    "language_info": {
      "codemirror_mode": {
        "name": "ipython",
        "version": 3
      },
      "file_extension": ".py",
      "mimetype": "text/x-python",
      "name": "python",
      "nbconvert_exporter": "python",
      "pygments_lexer": "ipython3",
      "version": "3.7.4"
    }
  },
  "cells": [
    {
      "cell_type": "markdown",
      "metadata": {
        "id": "TK-goGrGhZgW",
        "colab_type": "text"
      },
      "source": [
        "# **CÂU HỎI**"
      ]
    },
    {
      "cell_type": "markdown",
      "metadata": {
        "colab_type": "text",
        "id": "z63CR9cwuQut"
      },
      "source": [
        "![alt text](https://www.ctdb.hcmus.edu.vn/wp-content/uploads/2017/04/17880008_1006985519432248_7695519039665360507_o-1.jpg)\n",
        "\n",
        "Chắc hẳn ai trong chúng ta cũng từng gặp một tấm poster như thế này trong đời. Ít nhất thì đây là lần đầu tiên nếu trước đó bạn chưa thấy.\n",
        "\n",
        "Có thể vì tính thẩm mỹ, tiết kiệm không gian hoặc vì một lý do nào đó không biết được, chúng ta chỉ thấy được các logo của công ty trên tấm poster này.\n",
        "\n",
        "Vậy, bạn có thể kể hết tên các công ty có mặt trên poster này không. Tôi đoán đa phần là không, ít nhất thì tôi không biết.\n",
        "\n",
        "Xuất phát từ nhu cầu muốn biết công ty nào được in trên các poster của chính chúng tôi và giúp nhưng người có nhu cầu giống như thế, chúng tôi muốn phát triển một hệ thống có thể nhận biết được công ty thông qua logo của họ.\n",
        "\n",
        "Do thời gian có hạn và tài nguyên không đủ, chúng tôi chỉ làm một ví dụ với 5 công ty là vng, viettel, fpt, kms, fujinet. Chúng tôi sẽ phát triển thêm trong tương lại khi gọi vốn thành công từ các sharks :)). Dữ liệu của chúng tôi được thu thập từ internet. Cụ thể là từ google images. Chúng tôi chỉ lấy những tấm ảnh được gán nhán là được phép sử dụng (free).\n",
        "\n",
        "Cuối cùng, nếu bạn thích ý tưỡng này, hãy đầu tư cho chúng tôi. Xin cảm ơn."
      ]
    },
    {
      "cell_type": "markdown",
      "metadata": {
        "id": "kKZXyZksdrej",
        "colab_type": "text"
      },
      "source": [
        "# **UPDATE: THU THẬP DỮ LIỆU**"
      ]
    },
    {
      "cell_type": "markdown",
      "metadata": {
        "id": "-QxUgaFFhVHE",
        "colab_type": "text"
      },
      "source": [
        "Do dữ liệu thu thập từ google search không tốt như dự đoán, nhóm sẽ sử dụng cách khác để thu thập dữ liệu.\n",
        "\n",
        "Data bao gồm các hình ảnh được lấy từ trang web [Brands Vietnam](https://www.brandsvietnam.com/). Trang web này bao gồm các hình ảnh, thông tin và các sự kiện xảy ra trong các năm gần đây của các công ty Việt Nam.\n",
        "\n",
        "Nhóm đã tiến hành kiểm tra và xác nhận là các hình ảnh trên trang này được phép thu thập. Cụ thể, nhóm sẽ tìm các công ty trong trang [danh bạ công ty](https://www.brandsvietnam.com/danhba/2-Congty). Với mỗi công ty, nhóm sẽ vào tất cả các bài đăng và thu thập tất cả các ảnh trong mỗi bài đăng. Sau đó nhóm sẽ tiến hành loại bỏ các ảnh xấu, tiền xử lý dữ liệu hoặc có thể sử dụng các biện pháp tăng cường dữ liệu nếu dữ liệu thu thập được quá ít.\n",
        "\n",
        "Để tiện cho việc thu thập dữ liệu, 5 công ty nhóm sẽ thu thập là vng, viettel, fpt, tiki và thế giới di động. Thay vì vng, viettel, fpt, kms, fujinet như ban đầu."
      ]
    },
    {
      "cell_type": "markdown",
      "metadata": {
        "id": "wGpl11STh9ZX",
        "colab_type": "text"
      },
      "source": [
        "# **CODE**"
      ]
    },
    {
      "cell_type": "code",
      "metadata": {
        "colab_type": "code",
        "id": "y_XiYVXChW3n",
        "colab": {}
      },
      "source": [
        "#Import library\n",
        "\n",
        "from requests_html import HTMLSession\n",
        "import requests\n",
        "import os\n",
        "import argparse\n",
        "import sys\n",
        "import json\n",
        "import time"
      ],
      "execution_count": 0,
      "outputs": []
    },
    {
      "cell_type": "code",
      "metadata": {
        "id": "a7JWo98Hdl60",
        "colab_type": "code",
        "colab": {}
      },
      "source": [
        "# Define url of companies\n",
        "urls = {\n",
        "    'vinamilk': 'https://www.brandsvietnam.com/keyword/54-Vinamilk',\n",
        "    'fpt': 'https://www.brandsvietnam.com/keyword/398-FPT',\n",
        "    'tiki': 'https://www.brandsvietnam.com/keyword/1114-Tiki',\n",
        "    'viettel': 'https://www.brandsvietnam.com/keyword/200-Viettel',\n",
        "    'tgdd': 'https://www.brandsvietnam.com/keyword/613-The-Gioi-Di-Dong',\n",
        "}"
      ],
      "execution_count": 0,
      "outputs": []
    },
    {
      "cell_type": "code",
      "metadata": {
        "colab_type": "code",
        "id": "utvmYMjShW3-",
        "colab": {}
      },
      "source": [
        "# Create html session\n",
        "\n",
        "session = HTMLSession()"
      ],
      "execution_count": 0,
      "outputs": []
    },
    {
      "cell_type": "code",
      "metadata": {
        "id": "kYkzt0L_kEvi",
        "colab_type": "code",
        "colab": {}
      },
      "source": [
        "# Function: Collect image of one post\n",
        "# Return: New index\n",
        "\n",
        "def collect_images_from_post(post_url, output_dir, start_index=0, time_out=10):\n",
        "  imgs = []\n",
        "  try:\n",
        "    res = session.get(post_url)\n",
        "    post_content = res.html.find('.reading-content', first=True)\n",
        "    imgs = post_content.find('img')\n",
        "  except:\n",
        "    print(\"Unexpected error: \", sys.exc_info())\n",
        "    return start_index\n",
        "\n",
        "  index = start_index\n",
        "  for img in imgs:\n",
        "    img_url = img.attrs['src']\n",
        "    ext = img_url.split('.')[-1]\n",
        "    try:\n",
        "      raw_img = requests.get(img_url, timeout=time_out).content\n",
        "      f = open(os.path.join(output_dir, f'img_{index}.{ext}'), 'wb')\n",
        "      f.write(raw_img)\n",
        "      f.close\n",
        "      index += 1\n",
        "    except:\n",
        "      print(\"Unexpected error: \", sys.exc_info())\n",
        "  \n",
        "  return index"
      ],
      "execution_count": 0,
      "outputs": []
    },
    {
      "cell_type": "code",
      "metadata": {
        "id": "QP71ljC4o139",
        "colab_type": "code",
        "colab": {}
      },
      "source": [
        "# Function: Collect image of one company\n",
        "# Return: New index\n",
        "\n",
        "def collect_images_of_company(company_url, output_dir, start_index=0, time_out=10):\n",
        "  res = session.get(company_url)\n",
        "  content = res.html.find('.comment-list', first=True)\n",
        "  posts = content.find('.media-body>a')\n",
        "\n",
        "  index = start_index\n",
        "  for post in posts:\n",
        "    post_url = post.attrs['href']\n",
        "    index = collect_images_from_post(post_url=post_url, output_dir=output_dir, start_index=index, time_out=time_out)\n",
        "  \n",
        "  return index"
      ],
      "execution_count": 0,
      "outputs": []
    },
    {
      "cell_type": "code",
      "metadata": {
        "id": "QVhrf8WXuazR",
        "colab_type": "code",
        "colab": {}
      },
      "source": [
        "# Function: Collect all images\n",
        "\n",
        "def collect_all_images(urls, output_dir='.'):\n",
        "  # Create output directory if not exist\n",
        "  if not os.path.exists(output_dir):\n",
        "    os.mkdir(output_dir)\n",
        "  \n",
        "  for company, company_url in urls.items():\n",
        "    company_dir = os.path.join(output_dir, company)\n",
        "    if not os.path.exists(company_dir):\n",
        "      os.mkdir(company_dir)\n",
        "    \n",
        "    # Collect images\n",
        "    collect_images_of_company(company_url=company_url, output_dir=company_dir)"
      ],
      "execution_count": 0,
      "outputs": []
    },
    {
      "cell_type": "code",
      "metadata": {
        "id": "qP_EjptiwUjB",
        "colab_type": "code",
        "colab": {}
      },
      "source": [
        "# Collect images\n",
        "\n",
        "collect_all_images(urls, './dataset/images')"
      ],
      "execution_count": 0,
      "outputs": []
    }
  ]
}