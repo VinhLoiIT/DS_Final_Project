{
  "nbformat": 4,
  "nbformat_minor": 0,
  "metadata": {
    "kernelspec": {
      "display_name": "Python 3",
      "language": "python",
      "name": "python3"
    },
    "language_info": {
      "codemirror_mode": {
        "name": "ipython",
        "version": 3
      },
      "file_extension": ".py",
      "mimetype": "text/x-python",
      "name": "python",
      "nbconvert_exporter": "python",
      "pygments_lexer": "ipython3",
      "version": "3.7.4"
    },
    "colab": {
      "name": "collect_data.ipynb",
      "provenance": [],
      "toc_visible": true
    }
  },
  "cells": [
    {
      "cell_type": "markdown",
      "metadata": {
        "id": "z63CR9cwuQut",
        "colab_type": "text"
      },
      "source": [
        "![alt text](https://www.ctdb.hcmus.edu.vn/wp-content/uploads/2017/04/17880008_1006985519432248_7695519039665360507_o-1.jpg)\n",
        "\n",
        "Chắc hẳn ai trong chúng ta cũng từng gặp một tấm poster như thế này trong đời. Ít nhất thì đây là lần đầu tiên nếu trước đó bạn chưa thấy.\n",
        "\n",
        "Có thể vì tính thẩm mỹ, tiết kiệm không gian hoặc vì một lý do nào đó không biết được, chúng ta chỉ thấy được các logo của công ty trên tấm poster này.\n",
        "\n",
        "Vậy, bạn có thể kể hết tên các công ty có mặt trên poster này không. Tôi đoán đa phần là không, ít nhất thì tôi không biết.\n",
        "\n",
        "Xuất phát từ nhu cầu muốn biết công ty nào được in trên các poster của chính chúng tôi và giúp nhưng người có nhu cầu giống như thế, chúng tôi muốn phát triển một hệ thống có thể nhận biết được công ty thông qua logo của họ.\n",
        "\n",
        "Do thời gian có hạn và tài nguyên không đủ, chúng tôi chỉ làm một ví dụ với 5 công ty là vng, viettel, fpt, kms, fujinet. Chúng tôi sẽ phát triển thêm trong tương lại khi gọi vốn thành công từ các sharks :)). Dữ liệu của chúng tôi được thu thập từ internet. Cụ thể là từ google images. Chúng tôi chỉ lấy những tấm ảnh được gán nhán là được phép sử dụng (free).\n",
        "\n",
        "Cuối cùng, nếu bạn thích ý tưỡng này, hãy đầu tư cho chúng tôi. Xin cảm ơn."
      ]
    },
    {
      "cell_type": "markdown",
      "metadata": {
        "id": "ixbXeNrhhW3h",
        "colab_type": "text"
      },
      "source": [
        "# Import library"
      ]
    },
    {
      "cell_type": "code",
      "metadata": {
        "id": "y_XiYVXChW3n",
        "colab_type": "code",
        "colab": {}
      },
      "source": [
        "from requests_html import HTMLSession\n",
        "import requests\n",
        "import os\n",
        "import argparse\n",
        "import sys\n",
        "import json\n",
        "import time"
      ],
      "execution_count": 0,
      "outputs": []
    },
    {
      "cell_type": "code",
      "metadata": {
        "id": "VjJyUN1RhW3x",
        "colab_type": "code",
        "colab": {}
      },
      "source": [
        "keywords = {\n",
        "    'viettel': ['cua hang viettel', 'viettel store'],\n",
        "    'fpt': ['fpt software', 'fpt'],\n",
        "    'fujinet': ['fujinet', 'fujinet logo'],\n",
        "    'vng': ['vng', 'vng logo'],\n",
        "    'kms': ['kms', 'kms logo'],\n",
        "}"
      ],
      "execution_count": 0,
      "outputs": []
    },
    {
      "cell_type": "code",
      "metadata": {
        "id": "UklLF2ADhW34",
        "colab_type": "code",
        "colab": {}
      },
      "source": [
        "max_image_per_query = 100\n",
        "image_dir_root = './download'\n",
        "if not os.path.exists(image_dir_root):\n",
        "    os.mkdir(image_dir_root)"
      ],
      "execution_count": 0,
      "outputs": []
    },
    {
      "cell_type": "code",
      "metadata": {
        "id": "utvmYMjShW3-",
        "colab_type": "code",
        "colab": {}
      },
      "source": [
        "session = HTMLSession()"
      ],
      "execution_count": 0,
      "outputs": []
    },
    {
      "cell_type": "code",
      "metadata": {
        "id": "sXOHAL5RhW4C",
        "colab_type": "code",
        "colab": {}
      },
      "source": [
        "def fetch_image_to_dir(query, output_dir, start_index=0, verbose=False):\n",
        "    query= query.split()\n",
        "    query='+'.join(query)\n",
        "\n",
        "    url=\"https://www.google.co.in/search?q=\"+query+\"&source=lnms&tbm=isch&tbs=sur:f\"\n",
        "    res = session.get(url)\n",
        "\n",
        "    while not(res.ok):\n",
        "        time.sleep(1)\n",
        "        res = session.get(url)\n",
        "\n",
        "    tmp = res.html.find('.rg_meta')\n",
        "    print(f'len {len(tmp)} res.ok {res.ok} url {url}')\n",
        "\n",
        "    i = start_index\n",
        "    for value in res.html.find('.rg_meta'):\n",
        "        json_data = json.loads(value.text)\n",
        "        img = json_data['ou']\n",
        "        ext = json_data['ity']\n",
        "\n",
        "        if ext == '':\n",
        "            continue\n",
        "    \n",
        "        if verbose:\n",
        "            print(f'Downloading i={i}: {img}')\n",
        "\n",
        "        try:\n",
        "            raw_img = requests.get(img, timeout=10).content\n",
        "            f = open(os.path.join(output_dir, f'img_{i}.{ext}'), 'wb')\n",
        "            f.write(raw_img)\n",
        "            f.close()\n",
        "        except Exception as e:\n",
        "            print(e)\n",
        "\n",
        "        i += 1\n",
        "        if (i - start_index) == max_image_per_query:\n",
        "            break\n",
        "    return i"
      ],
      "execution_count": 0,
      "outputs": []
    },
    {
      "cell_type": "code",
      "metadata": {
        "id": "dUREnsF_hW4G",
        "colab_type": "code",
        "colab": {}
      },
      "source": [
        "for company, queries in keywords.items():\n",
        "    img_dir = os.path.join(image_dir_root, company)\n",
        "    if not os.path.exists(img_dir):\n",
        "        os.mkdir(img_dir)\n",
        "        \n",
        "    index = 0\n",
        "    for query in queries:\n",
        "        index = fetch_image_to_dir(query, img_dir, start_index=index, verbose=True)"
      ],
      "execution_count": 0,
      "outputs": []
    },
    {
      "cell_type": "markdown",
      "metadata": {
        "id": "AuWJIgtJhW4M",
        "colab_type": "text"
      },
      "source": [
        "# View some results"
      ]
    }
  ]
}